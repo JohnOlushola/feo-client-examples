{
 "cells": [
  {
   "cell_type": "markdown",
   "id": "b6b293dc-d42c-4ac5-99be-e7f79748645e",
   "metadata": {},
   "source": [
    "_To use this notebook you must have a (free) FEO account, available [here](https://feo.transitionzero.org/). You may then install the feo-client library, if necessary, and then use the package to log in. You can also run notebook in a Colab notebook via the badge below._"
   ]
  },
  {
   "cell_type": "markdown",
   "id": "b1d45911-c183-4916-84a7-735da5464da9",
   "metadata": {},
   "source": [
    "<a target=\"_blank\" href=\"https://colab.research.google.com/github/transition-zero/feo-client-examples/blob/main/feo-client-examples/0_nodes.ipynb\">\n",
    "  <img src=\"https://colab.research.google.com/assets/colab-badge.svg\" alt=\"Open In Colab\"/>\n",
    "</a>"
   ]
  },
  {
   "cell_type": "code",
   "execution_count": null,
   "id": "50c8b7a4-491b-4ba3-a3aa-e93547f96796",
   "metadata": {},
   "outputs": [],
   "source": [
    "!pip install --index-url https://test.pypi.org/simple/ --extra-index-url https://pypi.org/simple/ feo-client"
   ]
  },
  {
   "cell_type": "code",
   "execution_count": null,
   "id": "16eb2e8c-04df-4ede-8eb5-7a9e5621a2c6",
   "metadata": {},
   "outputs": [],
   "source": [
    "from feo.client.auth import login\n",
    "\n",
    "login()"
   ]
  },
  {
   "attachments": {},
   "cell_type": "markdown",
   "id": "231207b7-7454-42d5-8509-e0d9209e342d",
   "metadata": {},
   "source": [
    "## Geospatial\n",
    "\n",
    "_Object-oriented interface for Nodes via the Python client_"
   ]
  },
  {
   "cell_type": "markdown",
   "id": "786baa08-19b0-4c22-bc29-512ceb696083",
   "metadata": {},
   "source": [
    "FEO comprises a wide variety of geospatial data, covering vector and raster data types. Vector types include `node geometries`, `hydrobasins`, `exclusive economic zones` and `protected areas`. Each of these exists as a `Collection` that can be browsed and searched via several methods.\n",
    "\n",
    "In this notebook we will gather some vector data for a node, namely:\n",
    "- The node geometry\n",
    "- The protected areas intersecting the node geometry\n",
    "- Any corresponding offshore areas (Exclusive Economic Zones)"
   ]
  },
  {
   "cell_type": "code",
   "execution_count": null,
   "id": "ea55e131-4b5b-4dba-a623-a457af918eef",
   "metadata": {},
   "outputs": [],
   "source": [
    "from feo.client import Node, Features"
   ]
  },
  {
   "cell_type": "code",
   "execution_count": null,
   "id": "0bfdeb79-a504-465b-9000-e4e279e7f9c0",
   "metadata": {},
   "outputs": [],
   "source": [
    "# Let's use Bali\n",
    "node_name = \"Bali\"\n",
    "nodes = Node.search(node_name)\n",
    "try:\n",
    "    bali = nodes[0]\n",
    "    print(bali)\n",
    "except IndexError:\n",
    "    raise IndexError(f\"No nodes found for {node_name}\")"
   ]
  },
  {
   "cell_type": "code",
   "execution_count": null,
   "id": "07f8113a-63b1-456a-a341-ab9439f88564",
   "metadata": {},
   "outputs": [],
   "source": [
    "bali_geom = bali.geometry"
   ]
  },
  {
   "cell_type": "code",
   "execution_count": null,
   "id": "bcde0fe0-1c3b-4d03-bc08-e75855ffa054",
   "metadata": {},
   "outputs": [],
   "source": [
    "type(bali_geom)"
   ]
  },
  {
   "cell_type": "markdown",
   "id": "7f43db2c-ecaf-4284-b1c0-716d14aeb392",
   "metadata": {},
   "source": [
    "The `geometry` property is a `Geometry` class. This class provides convenience methods for downstream purposes. In the base `feo-client` install you can convert the geometry to a dictonary or a GeoJSON string"
   ]
  },
  {
   "cell_type": "code",
   "execution_count": null,
   "id": "80002d5f-8bb3-441d-90f9-5810c1799097",
   "metadata": {},
   "outputs": [],
   "source": [
    "print(bali_geom.to_geojson()[:100]) # sliced to limit output"
   ]
  },
  {
   "cell_type": "markdown",
   "id": "1f26d889-cb5c-47d7-938d-199888651b21",
   "metadata": {},
   "source": [
    "If you installed the `geo` requirements you'll be able to also use the `to_shape` method to return a `shapely.Geometry` object."
   ]
  },
  {
   "cell_type": "code",
   "execution_count": null,
   "id": "32ae3ae2-9a83-4dca-a743-d7d12c83559e",
   "metadata": {},
   "outputs": [],
   "source": [
    "bali_geom.to_shape()"
   ]
  },
  {
   "cell_type": "markdown",
   "id": "ea055d8b-1a94-4d13-8a8c-269d5e756def",
   "metadata": {},
   "source": [
    "### Search for other vector data\n",
    "Next we'll search for any protected areas located within Bali."
   ]
  },
  {
   "cell_type": "code",
   "execution_count": null,
   "id": "25f64389-4d1a-4cac-bef6-4d5312598b2b",
   "metadata": {},
   "outputs": [],
   "source": [
    "# Search for Protected Areas\n",
    "pa_feats = Features.search(collection_id=\"biodiversity-wdpa\", geometry=bali_geom)"
   ]
  },
  {
   "cell_type": "markdown",
   "id": "ad7d1fb5-632d-4722-ba0d-570527af0ccb",
   "metadata": {},
   "source": [
    "`pa_feats` is a `Features` objects; a collection of features, each with properties and a geometry"
   ]
  },
  {
   "cell_type": "code",
   "execution_count": null,
   "id": "d5c9e3ca-82f7-4faa-9aaf-0b6760d68edd",
   "metadata": {},
   "outputs": [],
   "source": [
    "# How many protected areas were returned?\n",
    "len(pa_feats.features)"
   ]
  },
  {
   "cell_type": "code",
   "execution_count": null,
   "id": "e6d6e219-639f-4e59-bc25-cf44ec5a96f7",
   "metadata": {},
   "outputs": [],
   "source": [
    "# Examine a feature"
   ]
  },
  {
   "cell_type": "code",
   "execution_count": null,
   "id": "9c7b9c69-4904-49bb-aebd-60587342e15c",
   "metadata": {},
   "outputs": [],
   "source": [
    "ft = pa_feats.features[0]\n",
    "ft.properties"
   ]
  },
  {
   "cell_type": "code",
   "execution_count": null,
   "id": "64968c08-6e14-4e32-b73d-31eaf6441f9b",
   "metadata": {},
   "outputs": [],
   "source": [
    "ft.geometry.to_shape()"
   ]
  },
  {
   "cell_type": "markdown",
   "id": "e5a1a0a0-e508-4de7-ba9e-9b1640208a57",
   "metadata": {},
   "source": [
    "If you have the `geo` dependencies installed you can convert the `Features` object to a `GeoDataFrame`"
   ]
  },
  {
   "cell_type": "code",
   "execution_count": null,
   "id": "d76d330e-04e2-4b01-8a94-a2f427f276b9",
   "metadata": {},
   "outputs": [],
   "source": [
    "gdf = pa_feats.to_geodataframe()\n",
    "gdf"
   ]
  },
  {
   "cell_type": "markdown",
   "id": "8d3cb43d-a167-45ce-b4b8-4a81c4f54e3d",
   "metadata": {},
   "source": [
    "### Visualise the data\n",
    "`Features` and `Geometry` objects both have GeoJSON representations, allowing for easy interoperability with other geospatial tools. In this example, we use `folium` to plot an interactive map of Bali and its protected areas."
   ]
  },
  {
   "cell_type": "code",
   "execution_count": null,
   "id": "ffcab22e-1f39-4067-8729-dd022a45e686",
   "metadata": {},
   "outputs": [],
   "source": [
    "!pip install folium"
   ]
  },
  {
   "cell_type": "code",
   "execution_count": null,
   "id": "41fc1dc4-a293-40eb-9405-c7c36fdd817f",
   "metadata": {},
   "outputs": [],
   "source": [
    "import folium\n",
    "from folium.features import GeoJson"
   ]
  },
  {
   "cell_type": "code",
   "execution_count": null,
   "id": "e70ee00e-37e2-4750-9f42-de33b7e109ca",
   "metadata": {},
   "outputs": [],
   "source": [
    "# Define the layer styles\n",
    "bali_style = {\"fillColor\": \"#f2ff00\", \"color\": \"#f2ff00\"}\n",
    "pa_style = {'fillColor': '#000000', 'color': '#000000'}"
   ]
  },
  {
   "cell_type": "code",
   "execution_count": null,
   "id": "0612822d-2036-4d0c-b0d1-1caa01a783b0",
   "metadata": {},
   "outputs": [],
   "source": [
    "bali_geom_shape = bali_geom.to_shape() # convert our Geometry object to a shapely object\n",
    "map_center = bali_geom_shape.centroid # access the centroid using the shape property\n",
    "\n",
    "# Configure the map\n",
    "map = folium.Map(location=(map_center.y, map_center.x), zoom_start=10)\n",
    "\n",
    "# Add vector data to the map via the GeoJSON interface\n",
    "map.add_child(GeoJson(bali_geom.to_geojson(), name=\"Bali\", style_function=lambda x: bali_style))\n",
    "map.add_child(GeoJson(pa_feats.to_geojson(), name=\"World Database on Protected Areas\",\n",
    "                      style_function=lambda x: pa_style,\n",
    "                      popup=folium.GeoJsonPopup(fields=[\"name\", \"designation\"]))\n",
    ")\n",
    "folium.LayerControl().add_to(map)\n",
    "map"
   ]
  },
  {
   "cell_type": "code",
   "execution_count": null,
   "id": "37ae9753-0d42-4241-8836-70d46862b7a7",
   "metadata": {},
   "outputs": [],
   "source": []
  }
 ],
 "metadata": {
  "kernelspec": {
   "display_name": "feo-client",
   "language": "python",
   "name": "feo-client"
  },
  "language_info": {
   "codemirror_mode": {
    "name": "ipython",
    "version": 3
   },
   "file_extension": ".py",
   "mimetype": "text/x-python",
   "name": "python",
   "nbconvert_exporter": "python",
   "pygments_lexer": "ipython3",
   "version": "3.11.6"
  }
 },
 "nbformat": 4,
 "nbformat_minor": 5
}
