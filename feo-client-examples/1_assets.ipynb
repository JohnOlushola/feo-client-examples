{
 "cells": [
  {
   "cell_type": "markdown",
   "id": "0d7e3386-47a0-4010-861d-8af73abb94c2",
   "metadata": {},
   "source": [
    "_To use this notebook you must have a (free) FEO account, available [here](https://feo.transitionzero.org/). You may then install the feo-client library, if necessary, and then use the package to log in. You can also run notebook in a Colab notebook via the badge below._"
   ]
  },
  {
   "cell_type": "markdown",
   "id": "a693f8d0-3be8-4738-936c-bd03b725ef83",
   "metadata": {},
   "source": [
    "<a target=\"_blank\" href=\"https://colab.research.google.com/github/transition-zero/feo-client/tree/main/notebooks/1_assets.ipynb\">\n",
    "  <img src=\"https://colab.research.google.com/assets/colab-badge.svg\" alt=\"Open In Colab\"/>\n",
    "</a>"
   ]
  },
  {
   "cell_type": "code",
   "execution_count": null,
   "id": "00994af4-8000-452a-957e-a1ef5a173db5",
   "metadata": {},
   "outputs": [],
   "source": [
    "!pip install feo-client"
   ]
  },
  {
   "cell_type": "code",
   "execution_count": null,
   "id": "751b4391-c15b-4cd3-bb27-730a13393b62",
   "metadata": {},
   "outputs": [],
   "source": [
    "from feo.client.auth import login\n",
    "\n",
    "login()"
   ]
  },
  {
   "cell_type": "markdown",
   "id": "6b6d9851-3eff-4356-b47e-b97222f2c1be",
   "metadata": {},
   "source": [
    "# Asset\n",
    "_Object-oriented interface for Assets via the Python client_"
   ]
  },
  {
   "cell_type": "markdown",
   "id": "b547e5aa-27dd-4300-a572-6fa2d789cd48",
   "metadata": {},
   "source": [
    "In the FEO platform, `Assets` are a subset of Nodes. Assets are Nodes which correspond to physical plant and equipment like power stations and steelworks. \n",
    "\n",
    "To begin, import the Asset client."
   ]
  },
  {
   "cell_type": "code",
   "execution_count": null,
   "id": "e7eae12b-d1e9-4220-b2a1-f4910720e8b5",
   "metadata": {},
   "outputs": [],
   "source": [
    "from feo.client import Asset"
   ]
  },
  {
   "cell_type": "markdown",
   "id": "a19d0131-37ae-4383-82e0-8de17a09e456",
   "metadata": {},
   "source": [
    "Like nodes, assets can be searched for: "
   ]
  },
  {
   "cell_type": "code",
   "execution_count": null,
   "id": "185cb3cd-96d2-4a58-bd80-8865d551fc71",
   "metadata": {},
   "outputs": [],
   "source": [
    "search_results = Asset.search(\"Rooppur nuclear power plant\", sector=\"power\")\n",
    "for asset in search_results:\n",
    "    print(asset.id, asset.name_primary_en)"
   ]
  },
  {
   "cell_type": "markdown",
   "id": "c6afc777-6da4-485b-a76b-d3ce82767464",
   "metadata": {},
   "source": [
    "... or directly instantiated:"
   ]
  },
  {
   "cell_type": "code",
   "execution_count": null,
   "id": "e2cbf050-ab7a-48de-b446-cb809a818c50",
   "metadata": {
    "scrolled": true
   },
   "outputs": [],
   "source": [
    "asset = Asset(\"PWRURNBGDA0U0\")\n",
    "asset.id, asset.name_primary_en"
   ]
  },
  {
   "cell_type": "markdown",
   "id": "486d5dfe-7594-4ab2-bbe5-c8325b06595d",
   "metadata": {},
   "source": [
    "Assets are categorised according to their industrial `sector`. FEO currently supports two industrial sectors: **power** and **steel** production. Some assets are composed of sub-assets called **units**. "
   ]
  },
  {
   "cell_type": "code",
   "execution_count": null,
   "id": "adcda5f0-2cf6-4ec3-8fa0-a30cc1d8b1a0",
   "metadata": {},
   "outputs": [],
   "source": [
    "asset.sector"
   ]
  },
  {
   "cell_type": "markdown",
   "id": "2770984f-6a9d-4665-855d-98bef21be047",
   "metadata": {},
   "source": [
    "Depending on their sector, assets will have a variety of different properties. "
   ]
  },
  {
   "cell_type": "code",
   "execution_count": null,
   "id": "cc2f5d4f-d778-4ff9-9ab0-30f7fe750d50",
   "metadata": {},
   "outputs": [],
   "source": [
    "asset.properties"
   ]
  },
  {
   "cell_type": "markdown",
   "id": "c6f3ccd5-fac7-4f13-933b-af502ca09166",
   "metadata": {},
   "source": [
    "Sometimes it is convenient to access all the assets associated with a particular administrative area. An `AssetCollection` can be accessed directly from a parent node."
   ]
  },
  {
   "cell_type": "code",
   "execution_count": null,
   "id": "4929b72d-0475-4c2a-af5a-7d91fd169aa5",
   "metadata": {},
   "outputs": [],
   "source": [
    "from feo.client import Node"
   ]
  },
  {
   "cell_type": "code",
   "execution_count": null,
   "id": "3bfcef28-2417-4524-a540-c6db3319316e",
   "metadata": {},
   "outputs": [],
   "source": [
    "asset_collection = Node(\"GBR\").assets"
   ]
  },
  {
   "cell_type": "markdown",
   "id": "71f1eab9-c297-485a-b61e-ca8c8a707f31",
   "metadata": {},
   "source": [
    "An `AssetCollection` is just an extention of a [Pandas](https://pandas.pydata.org/docs/index.html) `DataFrame`. All the normal data manipulation methods can be used on the asset_collection instance."
   ]
  },
  {
   "cell_type": "code",
   "execution_count": null,
   "id": "4992126c-0c49-4d07-9e2a-582271935c3b",
   "metadata": {},
   "outputs": [],
   "source": [
    "collection.groupby([\"unit_type\", \"operating_status\"])[\"capacity\"].sum()"
   ]
  },
  {
   "cell_type": "markdown",
   "id": "1ed88dd0-126b-46c0-8383-e5e092877459",
   "metadata": {},
   "source": [
    "If there are too many assets in a given collection, the `.next()` method can be called to retrieve the next page. The `total` number of assets in the collection is also available."
   ]
  },
  {
   "cell_type": "code",
   "execution_count": null,
   "id": "9cbdbd47-046d-454d-9b01-2070d4d420b1",
   "metadata": {},
   "outputs": [],
   "source": [
    "collection.total"
   ]
  },
  {
   "cell_type": "code",
   "execution_count": null,
   "id": "9942df30-d90e-4c92-9e48-8d2e6e47fa6b",
   "metadata": {},
   "outputs": [],
   "source": [
    "collection.next()"
   ]
  },
  {
   "cell_type": "markdown",
   "id": "ccd867a4-1396-4fd8-b02d-6362bba2a833",
   "metadata": {},
   "source": [
    "A more specific assetcollection can also be constructed from the `AssetCollection` object"
   ]
  },
  {
   "cell_type": "code",
   "execution_count": null,
   "id": "6baa82c4-1728-48cb-8c47-cc6d55f14ca9",
   "metadata": {},
   "outputs": [],
   "source": [
    "collection = AssetCollection.search(\n",
    "    operating_status=\"operating\", parent_node_id=\"\", sector=\"\"\n",
    ")"
   ]
  },
  {
   "cell_type": "markdown",
   "id": "92ecc136-2def-47ba-a6a8-82362b1fcb8e",
   "metadata": {},
   "source": [
    "To recover individual asset objects from the collection, just call `.to_asset()` on a row in the collection."
   ]
  },
  {
   "cell_type": "code",
   "execution_count": null,
   "id": "0ca20a6a-d1ee-4e99-a85a-740f8248333a",
   "metadata": {},
   "outputs": [],
   "source": [
    "collection.loc[].to_asset()"
   ]
  }
 ],
 "metadata": {
  "kernelspec": {
   "display_name": "Python (feo-client)",
   "language": "python",
   "name": "feo-client"
  },
  "language_info": {
   "codemirror_mode": {
    "name": "ipython",
    "version": 3
   },
   "file_extension": ".py",
   "mimetype": "text/x-python",
   "name": "python",
   "nbconvert_exporter": "python",
   "pygments_lexer": "ipython3",
   "version": "3.11.5"
  }
 },
 "nbformat": 4,
 "nbformat_minor": 5
}
